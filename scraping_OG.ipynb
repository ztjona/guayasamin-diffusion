{
 "cells": [
  {
   "attachments": {},
   "cell_type": "markdown",
   "metadata": {},
   "source": [
    "# Scraping images\n",
    "The images are downloaded in the folder *images/*. \n",
    "\n",
    "Images are scraped from [wikiart.org](https://wikiart.org)\n"
   ]
  },
  {
   "cell_type": "code",
   "execution_count": 1,
   "metadata": {},
   "outputs": [],
   "source": [
    "# configs\n",
    "output_folder = \"./images/\"\n",
    "artist = \"oswaldo-guayasamin\" # must match the wikiart url"
   ]
  },
  {
   "cell_type": "code",
   "execution_count": 2,
   "metadata": {},
   "outputs": [],
   "source": [
    "# Get Links\n",
    "import requests\n",
    "url = f\"https://www.wikiart.org/en/{artist}/all-works/text-list\"\n",
    "result = requests.get(url)"
   ]
  },
  {
   "cell_type": "code",
   "execution_count": 3,
   "metadata": {},
   "outputs": [],
   "source": [
    "from bs4 import BeautifulSoup\n",
    "soup = BeautifulSoup(result.content, \"html.parser\")"
   ]
  },
  {
   "cell_type": "code",
   "execution_count": 4,
   "metadata": {},
   "outputs": [
    {
     "data": {
      "text/plain": [
       "['/en/oswaldo-guayasamin/the-accident-1941',\n",
       " '/en/oswaldo-guayasamin/the-dead-children-1941',\n",
       " '/en/oswaldo-guayasamin/portrait-of-leonor-estrada-1952',\n",
       " '/en/oswaldo-guayasamin/portrait-of-fidel-castro-1961',\n",
       " '/en/oswaldo-guayasamin/el-presidente-1967',\n",
       " '/en/oswaldo-guayasamin/el-violinista-1967',\n",
       " '/en/oswaldo-guayasamin/portrait-of-toty-rodr-guez-1967',\n",
       " '/en/oswaldo-guayasamin/homenaje-a-tania-n-1-1969',\n",
       " '/en/oswaldo-guayasamin/waiting-1969',\n",
       " '/en/oswaldo-guayasamin/meeting-at-the-pentagon-1970',\n",
       " '/en/oswaldo-guayasamin/napalm-1976',\n",
       " '/en/oswaldo-guayasamin/the-tortured-1977',\n",
       " '/en/oswaldo-guayasamin/el-grito-n-3-1983',\n",
       " '/en/oswaldo-guayasamin/el-grito-ii-1983',\n",
       " '/en/oswaldo-guayasamin/the-cry-1983',\n",
       " '/en/oswaldo-guayasamin/dos-cabezas-1987',\n",
       " '/en/oswaldo-guayasamin/quito-de-la-nube-negra-1987',\n",
       " '/en/oswaldo-guayasamin/rosa-z-rate-decapitated-flower-1987',\n",
       " '/en/oswaldo-guayasamin/ternura-1989',\n",
       " '/en/oswaldo-guayasamin/flores-secas-1994',\n",
       " '/en/oswaldo-guayasamin/self-portrait-1996',\n",
       " '/en/oswaldo-guayasamin/rigoberta-mench-1996',\n",
       " '/en/oswaldo-guayasamin/lagrimas-de-sangre',\n",
       " '/en/oswaldo-guayasamin/el-guitarrista',\n",
       " '/en/oswaldo-guayasamin/from-la-edad-de-la-ternura-series',\n",
       " '/en/oswaldo-guayasamin/from-la-edad-de-la-ternura-series-1',\n",
       " '/en/oswaldo-guayasamin/las-manos',\n",
       " '/en/oswaldo-guayasamin/tears-of-blood',\n",
       " '/en/oswaldo-guayasamin/el-grito',\n",
       " '/en/oswaldo-guayasamin/hambre',\n",
       " '/en/oswaldo-guayasamin/manos-de-un-mendigo',\n",
       " '/en/oswaldo-guayasamin/mother-and-child',\n",
       " '/en/oswaldo-guayasamin/mural',\n",
       " '/en/oswaldo-guayasamin/reuni-n-en-el-pent-gono-detail']"
      ]
     },
     "execution_count": 4,
     "metadata": {},
     "output_type": "execute_result"
    }
   ],
   "source": [
    "# obtaining links for each artwork\n",
    "artwork_links = soup.find(\n",
    "                \"div\", {\"class\": \"view-all-works\"}\n",
    "            ).find_all(\"a\")\n",
    "artwork_links_arr = []\n",
    "for link in artwork_links:\n",
    "    if not link.get(\"class\"):\n",
    "        artwork_links_arr.append(link.get(\"href\"))\n",
    "artwork_links_arr"
   ]
  },
  {
   "cell_type": "code",
   "execution_count": 5,
   "metadata": {},
   "outputs": [],
   "source": [
    "url_head = \"https://www.wikiart.org/\"\n"
   ]
  },
  {
   "cell_type": "code",
   "execution_count": 6,
   "metadata": {},
   "outputs": [],
   "source": [
    "url = url_head + artwork_links_arr[0]\n",
    "result = requests.get(url)\n",
    "soup = BeautifulSoup(result.content, \"html.parser\")\n"
   ]
  },
  {
   "cell_type": "code",
   "execution_count": 7,
   "metadata": {},
   "outputs": [
    {
     "data": {
      "text/plain": [
       "'https://uploads6.wikiart.org/images/oswaldo-guayasamin/the-accident-1941.jpg'"
      ]
     },
     "execution_count": 7,
     "metadata": {},
     "output_type": "execute_result"
    }
   ],
   "source": [
    "url_img = soup.find(\"div\", {\"class\": \"wiki-layout-artist-info wiki-layout-artwork-info\"}).find(\"img\").get(\"src\")\n",
    "url_img"
   ]
  },
  {
   "cell_type": "code",
   "execution_count": 8,
   "metadata": {},
   "outputs": [],
   "source": [
    "from urllib.request import Request, urlopen\n",
    "from PIL import Image\n",
    "def storeImg(url: str, title:str, output_path: str) -> None:\n",
    "    \"\"\"\n",
    "    Opens the image and store in the output folder.\n",
    "    \"\"\"\n",
    "    req = Request(url, headers={\"User-Agent\": \"Mozilla/6.0\"})\n",
    "    \n",
    "    img = Image.open(urlopen(req))\n",
    "    imgName = \"img_\" + title + \".jpg\"\n",
    "    img.save(f\"{output_path + imgName}\")\n",
    "    "
   ]
  },
  {
   "cell_type": "code",
   "execution_count": 9,
   "metadata": {},
   "outputs": [
    {
     "name": "stdout",
     "output_type": "stream",
     "text": [
      "https://uploads6.wikiart.org/images/oswaldo-guayasamin/the-accident-1941.jpg\n",
      "https://uploads2.wikiart.org/images/oswaldo-guayasamin/the-dead-children-1941.jpg\n",
      "https://uploads2.wikiart.org/images/oswaldo-guayasamin/portrait-of-leonor-estrada-1952.jpg\n",
      "https://uploads1.wikiart.org/images/oswaldo-guayasamin/portrait-of-fidel-castro-1961.jpg!Large.jpg\n",
      "https://uploads8.wikiart.org/images/oswaldo-guayasamin/el-presidente-1967.jpg!Large.jpg\n",
      "https://uploads8.wikiart.org/images/oswaldo-guayasamin/el-violinista-1967.jpg!Large.jpg\n",
      "https://uploads3.wikiart.org/images/oswaldo-guayasamin/portrait-of-toty-rodr-guez-1967.jpg!Large.jpg\n",
      "https://uploads6.wikiart.org/images/oswaldo-guayasamin/homenaje-a-tania-n-1-1969.jpg!Large.jpg\n",
      "https://uploads1.wikiart.org/images/oswaldo-guayasamin/waiting-1969.jpg\n",
      "https://uploads0.wikiart.org/images/oswaldo-guayasamin/meeting-at-the-pentagon-1970.jpg!Large.jpg\n",
      "https://uploads1.wikiart.org/images/oswaldo-guayasamin/napalm-1976.jpg!Large.jpg\n",
      "https://uploads6.wikiart.org/images/oswaldo-guayasamin/the-tortured-1977.jpg\n",
      "https://uploads7.wikiart.org/images/oswaldo-guayasamin/el-grito-n-3-1983.jpg!Large.jpg\n",
      "https://uploads6.wikiart.org/images/oswaldo-guayasamin/el-grito-ii-1983.jpg!Large.jpg\n",
      "https://uploads1.wikiart.org/images/oswaldo-guayasamin/the-cry-1983.jpg\n",
      "https://uploads5.wikiart.org/images/oswaldo-guayasamin/dos-cabezas-1987.jpg\n",
      "https://uploads8.wikiart.org/images/oswaldo-guayasamin/quito-de-la-nube-negra-1987.jpg!Large.jpg\n",
      "https://uploads6.wikiart.org/images/oswaldo-guayasamin/rosa-z-rate-decapitated-flower-1987.jpg\n",
      "https://uploads2.wikiart.org/images/oswaldo-guayasamin/ternura-1989.jpg!Large.jpg\n",
      "https://uploads7.wikiart.org/images/oswaldo-guayasamin/flores-secas-1994.jpg!Large.jpg\n",
      "https://uploads7.wikiart.org/images/oswaldo-guayasamin/self-portrait-1996.jpg\n",
      "https://uploads0.wikiart.org/images/oswaldo-guayasamin/rigoberta-mench-1996.jpg\n",
      "https://uploads0.wikiart.org/00162/images/oswaldo-guayasamin/l-grimas-de-sangre.jpg\n",
      "https://uploads3.wikiart.org/images/oswaldo-guayasamin/el-guitarrista.jpg\n",
      "https://uploads4.wikiart.org/images/oswaldo-guayasamin/from-la-edad-de-la-ternura-series.jpg\n",
      "https://uploads6.wikiart.org/images/oswaldo-guayasamin/from-la-edad-de-la-ternura-series-1.jpg\n",
      "https://uploads7.wikiart.org/images/oswaldo-guayasamin/las-manos.jpg\n",
      "https://uploads4.wikiart.org/images/oswaldo-guayasamin/tears-of-blood.jpg!Large.jpg\n",
      "https://uploads1.wikiart.org/images/oswaldo-guayasamin/el-grito(1).jpg!Large.jpg\n",
      "https://uploads4.wikiart.org/images/oswaldo-guayasamin/hambre.jpg\n",
      "https://uploads8.wikiart.org/images/oswaldo-guayasamin/manos-de-un-mendigo.jpg\n",
      "https://uploads5.wikiart.org/images/oswaldo-guayasamin/mother-and-child.jpg\n",
      "https://uploads3.wikiart.org/images/oswaldo-guayasamin/mural.jpg\n",
      "https://uploads1.wikiart.org/images/oswaldo-guayasamin/reuni-n-en-el-pent-gono-detail.jpg\n"
     ]
    }
   ],
   "source": [
    "for i, u1 in enumerate(artwork_links_arr):\n",
    "    # url = \n",
    "    url = url_head + u1\n",
    "    result = requests.get(url)\n",
    "    soup = BeautifulSoup(result.content, \"html.parser\")\n",
    "    url_img = soup.find(\"div\", {\"class\": \"wiki-layout-artist-info wiki-layout-artwork-info\"}).find(\"img\").get(\"src\")\n",
    "\n",
    "    print(url_img)\n",
    "    storeImg(url_img, f\"{i}\", output_folder)"
   ]
  }
 ],
 "metadata": {
  "kernelspec": {
   "display_name": "art_env",
   "language": "python",
   "name": "python3"
  },
  "language_info": {
   "codemirror_mode": {
    "name": "ipython",
    "version": 3
   },
   "file_extension": ".py",
   "mimetype": "text/x-python",
   "name": "python",
   "nbconvert_exporter": "python",
   "pygments_lexer": "ipython3",
   "version": "3.10.11"
  },
  "orig_nbformat": 4
 },
 "nbformat": 4,
 "nbformat_minor": 2
}
