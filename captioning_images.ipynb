{
 "cells": [
  {
   "attachments": {},
   "cell_type": "markdown",
   "metadata": {},
   "source": [
    "# Image captioning\n",
    "Uses BLIP to generate captions for the artist paintings. "
   ]
  },
  {
   "cell_type": "code",
   "execution_count": 6,
   "metadata": {},
   "outputs": [],
   "source": [
    "# configs\n",
    "folder = \"./images/\""
   ]
  },
  {
   "cell_type": "code",
   "execution_count": 1,
   "metadata": {},
   "outputs": [],
   "source": [
    "import torch\n",
    "from PIL import Image\n",
    "# setup device to use\n",
    "device = torch.device(\"cuda\" if torch.cuda.is_available() else \"cpu\")\n"
   ]
  },
  {
   "cell_type": "code",
   "execution_count": 2,
   "metadata": {},
   "outputs": [
    {
     "data": {
      "text/plain": [
       "['a painting of two men fighting over a woman']"
      ]
     },
     "execution_count": 2,
     "metadata": {},
     "output_type": "execute_result"
    }
   ],
   "source": [
    "from lavis.models import load_model_and_preprocess\n",
    "# load sample image\n",
    "raw_image = Image.open(\"./images/img_0.jpg\").convert(\"RGB\")\n",
    "device = torch.device(\"cuda\" if torch.cuda.is_available() else \"cpu\")\n",
    "# loads BLIP caption base model, with finetuned checkpoints on MSCOCO captioning dataset.\n",
    "# this also loads the associated image processors\n",
    "model, vis_processors, _ = load_model_and_preprocess(name=\"blip_caption\", model_type=\"base_coco\", is_eval=True, device=device)\n",
    "# preprocess the image\n",
    "# vis_processors stores image transforms for \"train\" and \"eval\" (validation / testing / inference)\n",
    "image = vis_processors[\"eval\"](raw_image).unsqueeze(0).to(device)\n",
    "# generate caption\n",
    "model.generate({\"image\": image})\n",
    "# ['a large fountain spewing water into the air']"
   ]
  },
  {
   "cell_type": "code",
   "execution_count": 9,
   "metadata": {},
   "outputs": [
    {
     "name": "stdout",
     "output_type": "stream",
     "text": [
      "file_name,text\n",
      "img_0.jpg,a painting of two men fighting over a woman\n",
      "img_1.jpg,a painting of a group of naked men\n",
      "img_2.jpg,a painting of a woman in a black dress\n",
      "img_3.jpg,a painting of a man with a beard\n",
      "img_4.jpg,a painting of a man's face with blue eyes\n",
      "img_5.jpg,a painting of a man with a guitar\n",
      "img_6.jpg,a painting of a woman with long hair\n",
      "img_7.jpg,a painting of a woman's face with a cigarette in her mouth\n",
      "img_8.jpg,three paintings of different shapes and sizes on a black background\n",
      "img_9.jpg,a series of five photographs of a person's legs\n",
      "img_10.jpg,a painting of a man holding his hand to his face\n",
      "img_11.jpg,a painting of a man holding a woman\n",
      "img_12.jpg,a painting of a person holding their hand up to their face\n",
      "img_13.jpg,a painting of a person holding their hands up to their face\n",
      "img_14.jpg,three paintings of hands and a horse's head\n",
      "img_15.jpg,a painting of a woman's face and a man's head\n",
      "img_16.jpg,a painting of a person with a mountain in the background\n",
      "img_17.jpg,a painting of a woman holding a pair of scissors\n",
      "img_18.jpg,a painting of two people hugging each other\n",
      "img_19.jpg,a painting of flowers in a vase on a table\n",
      "img_20.jpg,a painting of a man's face on a black background\n",
      "img_21.jpg,a painting of a woman with a pink headband\n",
      "img_22.jpg,a painting of a man's face with two eyes\n",
      "img_23.jpg,a painting of a skeleton holding a guitar\n",
      "img_24.jpg,a painting of a woman and a man's face\n",
      "img_25.jpg,a painting of a nude woman with a blue background\n",
      "img_26.jpg,a painting of two hands holding each other\n",
      "img_27.jpg,a painting of a human figure with a black background\n",
      "img_28.jpg,a painting of a group of people with their mouths open\n",
      "img_29.jpg,a painting of a woman covering her face with her hands\n",
      "img_30.jpg,a painting of a person holding something in their hands\n",
      "img_31.jpg,a painting of a man and a woman hugging\n",
      "img_32.jpg,a group of four paintings of different types of hands\n",
      "img_33.jpg,a painting of a man's face with blue eyes\n"
     ]
    }
   ],
   "source": [
    "#generating captions\n",
    "print(\"file_name,text\") # header\n",
    "\n",
    "for i in range(34):\n",
    "    f_name = f\"img_{i}.jpg\"\n",
    "    file = folder + f_name\n",
    "    raw_image = Image.open(file).convert(\"RGB\")\n",
    "    image = vis_processors[\"eval\"](raw_image).unsqueeze(0).to(device)\n",
    "    # generate caption\n",
    "    print(f_name,model.generate({\"image\": image})[0],sep=\",\")"
   ]
  },
  {
   "cell_type": "code",
   "execution_count": 10,
   "metadata": {},
   "outputs": [],
   "source": [
    "# Manually save the captions in the ./images/metadata.csv file."
   ]
  }
 ],
 "metadata": {
  "kernelspec": {
   "display_name": "Python 3",
   "language": "python",
   "name": "python3"
  },
  "language_info": {
   "codemirror_mode": {
    "name": "ipython",
    "version": 3
   },
   "file_extension": ".py",
   "mimetype": "text/x-python",
   "name": "python",
   "nbconvert_exporter": "python",
   "pygments_lexer": "ipython3",
   "version": "3.10.11"
  },
  "orig_nbformat": 4
 },
 "nbformat": 4,
 "nbformat_minor": 2
}
